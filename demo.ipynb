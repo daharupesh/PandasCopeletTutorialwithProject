{
 "cells": [
  {
   "cell_type": "code",
   "execution_count": 4,
   "metadata": {},
   "outputs": [
    {
     "name": "stdout",
     "output_type": "stream",
     "text": [
      "Pairs that sum to 13: [(7, 6)]\n"
     ]
    }
   ],
   "source": [
    "arr = [2,4,7,8,10]\n",
    "sum = 13\n",
    "def find_pairs_with_sum(arr, target_sum):\n",
    "    pairs = []\n",
    "    # Create a set to store the elements we've already checked\n",
    "    seen_elements = set()\n",
    "\n",
    "    for num in arr:\n",
    "        # Calculate the required complement that would add to the target_sum\n",
    "        complement = target_sum - num\n",
    "\n",
    "        # If the complement is already in the seen_elements set, we've found a pair\n",
    "        if complement in seen_elements:\n",
    "            pairs.append((complement, num))\n",
    "        \n",
    "        # Add the current number to the seen_elements set\n",
    "        seen_elements.add(num)\n",
    "\n",
    "    return pairs\n",
    "\n",
    "# Example usage\n",
    "arr = [2, 4, 7, 6, 10]\n",
    "target_sum = 13\n",
    "result = find_pairs_with_sum(arr, target_sum)\n",
    "\n",
    "print(\"Pairs that sum to {}: {}\".format(target_sum, result))\n"
   ]
  },
  {
   "cell_type": "code",
   "execution_count": 9,
   "metadata": {},
   "outputs": [
    {
     "name": "stdout",
     "output_type": "stream",
     "text": [
      "Combination thoese sum : 13: [2, 4, 7]\n"
     ]
    }
   ],
   "source": [
    "arr = [2, 4, 7, 8, 10]\n",
    "sum_target = 13\n",
    "result = []\n",
    "for i in range(len(arr)):\n",
    "    current_sum = arr[i]\n",
    "    temp_result = [arr[i]]\n",
    "\n",
    "    for j in range(i + 1, len(arr)):\n",
    "        if current_sum + arr[j] <= sum_target:\n",
    "            current_sum += arr[j]\n",
    "            temp_result.append(arr[j])\n",
    "\n",
    "        if current_sum == sum_target:\n",
    "\n",
    "            result = temp_result\n",
    "            break\n",
    "\n",
    "    if current_sum == sum_target:\n",
    "        break\n",
    "\n",
    "print(f\"Combination thoese sum : {sum_target}: {result}\")\n"
   ]
  },
  {
   "cell_type": "code",
   "execution_count": null,
   "metadata": {},
   "outputs": [],
   "source": []
  }
 ],
 "metadata": {
  "kernelspec": {
   "display_name": "Python 3",
   "language": "python",
   "name": "python3"
  },
  "language_info": {
   "codemirror_mode": {
    "name": "ipython",
    "version": 3
   },
   "file_extension": ".py",
   "mimetype": "text/x-python",
   "name": "python",
   "nbconvert_exporter": "python",
   "pygments_lexer": "ipython3",
   "version": "3.11.0"
  }
 },
 "nbformat": 4,
 "nbformat_minor": 2
}
